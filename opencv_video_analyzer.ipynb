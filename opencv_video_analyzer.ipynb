{
 "cells": [
  {
   "cell_type": "code",
   "execution_count": 1,
   "metadata": {},
   "outputs": [],
   "source": [
    "import cv2\n",
    "\n",
    "\n",
    "cap = cv2.VideoCapture(\"videos/me_boxing.mp4\")\n",
    "fgbg = cv2.createBackgroundSubtractorMOG2()\n",
    "\n",
    "while True:\n",
    "    ret, frame = cap.read()\n",
    "    if not ret:\n",
    "        break\n",
    "    fgmask = fgbg.apply(frame)\n",
    "\n",
    "    # Further processing and limb tracking can be added her\n",
    "    \n",
    "    cv2.imqhow(\"Original Frame\", frame)\n",
    "    cv2.imshow(\"Foreground Mask\", fgmask)\n",
    "\n",
    "    if cv2.waitKey(1) & 0xFF == ord(\"q\"):\n",
    "        break\n",
    "\n",
    "cap.release()\n",
    "cv2.destroyAllWindows()"
   ]
  },
  {
   "cell_type": "code",
   "execution_count": 6,
   "metadata": {},
   "outputs": [],
   "source": [
    "import cv2\n",
    "\n",
    "cap = cv2.VideoCapture(\"videos/me_boxing.mp4\")\n",
    "\n",
    "prev_centroid = None\n",
    "\n",
    "while True:\n",
    "    ret, frame = cap.read()\n",
    "\n",
    "    if not ret:\n",
    "        break\n",
    "\n",
    "    frame = cv2.resize(frame, (640, 480))\n",
    "    frame_blurred = cv2.GaussianBlur(frame, (5, 5), 0)\n",
    "    frame_hsv = cv2.cvtColor(frame_blurred, cv2.COLOR_BGR2HSV)\n",
    "\n",
    "    lower_color = (0, 20, 100)\n",
    "    upper_color = (30, 255, 255)\n",
    "\n",
    "    mask = cv2.inRange(frame_hsv, lower_color, upper_color)\n",
    "\n",
    "    contours, _ = cv2.findContours(mask, cv2.RETR_EXTERNAL, cv2.CHAIN_APPROX_SIMPLE)\n",
    "\n",
    "    if contours:\n",
    "        largest_contour = max(contours, key=cv2.contourArea)\n",
    "        M = cv2.moments(largest_contour)\n",
    "        if M[\"m00\"] > 0:\n",
    "            centroid_x = int(M[\"m10\"] / M[\"m00\"])\n",
    "            centroid_y = int(M[\"m01\"] / M[\"m00\"])\n",
    "\n",
    "            if prev_centroid:\n",
    "                displacement = (\n",
    "                    (centroid_x - prev_centroid[0]) ** 2\n",
    "                    + (centroid_y - prev_centroid[1]) ** 2\n",
    "                ) ** 0.5\n",
    "                print(f\"Displacement: {displacement}\")\n",
    "\n",
    "            prev_centroid = (centroid_x, centroid_y)\n",
    "\n",
    "    cv2.drawContours(frame, [largest_contour], -1, (0, 255, 0), 2)\n",
    "    cv2.circle(frame, (centroid_x, centroid_y), 5, (0, 0, 255), -1)\n",
    "\n",
    "    cv2.imshow(\"Processed Frame\", frame)\n",
    "\n",
    "    if cv2.waitKey(1) & 0xFF == ord(\"q\"):\n",
    "        break\n",
    "\n",
    "cap.release()\n",
    "cv2.destroyAllWindows()"
   ]
  },
  {
   "cell_type": "code",
   "execution_count": null,
   "metadata": {},
   "outputs": [],
   "source": []
  }
 ],
 "metadata": {
  "kernelspec": {
   "display_name": "base",
   "language": "python",
   "name": "python3"
  },
  "language_info": {
   "codemirror_mode": {
    "name": "ipython",
    "version": 3
   },
   "file_extension": ".py",
   "mimetype": "text/x-python",
   "name": "python",
   "nbconvert_exporter": "python",
   "pygments_lexer": "ipython3",
   "version": "3.10.9"
  }
 },
 "nbformat": 4,
 "nbformat_minor": 2
}
