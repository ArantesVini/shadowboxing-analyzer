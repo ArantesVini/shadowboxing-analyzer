{
 "cells": [
  {
   "cell_type": "code",
   "execution_count": 1,
   "metadata": {},
   "outputs": [],
   "source": [
    "import cv2\n",
    "import mediapipe as mp\n",
    "import numpy as np\n",
    "\n",
    "mp_drawing = mp.solutions.drawing_utils\n",
    "mp_pose = mp.solutions.pose\n",
    "\n",
    "\n",
    "def calculate_angle(p1, p2, p3):\n",
    "    v1 = p1 - p2\n",
    "    v2 = p3 - p2\n",
    "    angle_radians = np.arccos(\n",
    "        np.dot(v1, v2) / (np.linalg.norm(v1) * np.linalg.norm(v2))\n",
    "    )\n",
    "    angle_degrees = np.degrees(angle_radians)\n",
    "    return angle_degrees\n",
    "\n",
    "\n",
    "def get_pose_landmarks(cap):\n",
    "    with mp_pose.Pose(\n",
    "        min_detection_confidence=0.5, min_tracking_confidence=0.5\n",
    "    ) as pose:\n",
    "        while cap.isOpened():\n",
    "            ret, image = cap.read()\n",
    "            if not ret:\n",
    "                break\n",
    "\n",
    "            image_rgb = cv2.cvtColor(image, cv2.COLOR_BGR2RGB)\n",
    "\n",
    "            results = pose.process(image_rgb)\n",
    "            landmarks = results.pose_landmarks.landmark\n",
    "\n",
    "            if landmarks:\n",
    "                shoulder_index = 11\n",
    "                elbow_index = 13\n",
    "                wrist_index = 15\n",
    "\n",
    "                shoulder = np.array(\n",
    "                    [landmarks[shoulder_index].x, landmarks[shoulder_index].y]\n",
    "                )\n",
    "                elbow = np.array([landmarks[elbow_index].x, landmarks[elbow_index].y])\n",
    "                wrist = np.array([landmarks[wrist_index].x, landmarks[wrist_index].y])\n",
    "                shoulder_elbow_wrist_angle = calculate_angle(shoulder, elbow, wrist)\n",
    "                cv2.putText(\n",
    "                    image,\n",
    "                    f\"Angle: {shoulder_elbow_wrist_angle:.2f}\",\n",
    "                    (10, 30),\n",
    "                    cv2.FONT_HERSHEY_SIMPLEX,\n",
    "                    1,\n",
    "                    (0, 255, 0),\n",
    "                    2,\n",
    "                )\n",
    "\n",
    "                mp_drawing.draw_landmarks(\n",
    "                    image, results.pose_landmarks, mp_pose.POSE_CONNECTIONS\n",
    "                )\n",
    "\n",
    "            cv2.imshow(\"Pose Estimation\", image)\n",
    "\n",
    "            if cv2.waitKey(1) & 0xFF == ord(\"q\"):\n",
    "                break\n",
    "\n",
    "    cap.release()\n",
    "    cv2.destroyAllWindows()"
   ]
  },
  {
   "cell_type": "code",
   "execution_count": 2,
   "metadata": {},
   "outputs": [
    {
     "name": "stderr",
     "output_type": "stream",
     "text": [
      "INFO: Created TensorFlow Lite XNNPACK delegate for CPU.\n"
     ]
    },
    {
     "ename": "AttributeError",
     "evalue": "'NoneType' object has no attribute 'landmark'",
     "output_type": "error",
     "traceback": [
      "\u001b[0;31m---------------------------------------------------------------------------\u001b[0m",
      "\u001b[0;31mAttributeError\u001b[0m                            Traceback (most recent call last)",
      "\u001b[1;32m/Users/viniciusdanielarantes/shadowboxing-analyzer/get_pose_and_angles.ipynb Cell 2\u001b[0m line \u001b[0;36m2\n\u001b[1;32m      <a href='vscode-notebook-cell:/Users/viniciusdanielarantes/shadowboxing-analyzer/get_pose_and_angles.ipynb#W1sZmlsZQ%3D%3D?line=0'>1</a>\u001b[0m cap \u001b[39m=\u001b[39m cv2\u001b[39m.\u001b[39mVideoCapture(\u001b[39m\"\u001b[39m\u001b[39mpunches_videos/jab/jab1.mp4\u001b[39m\u001b[39m\"\u001b[39m)\n\u001b[0;32m----> <a href='vscode-notebook-cell:/Users/viniciusdanielarantes/shadowboxing-analyzer/get_pose_and_angles.ipynb#W1sZmlsZQ%3D%3D?line=1'>2</a>\u001b[0m get_pose_landmarks(cap)\n",
      "\u001b[1;32m/Users/viniciusdanielarantes/shadowboxing-analyzer/get_pose_and_angles.ipynb Cell 2\u001b[0m line \u001b[0;36m3\n\u001b[1;32m     <a href='vscode-notebook-cell:/Users/viniciusdanielarantes/shadowboxing-analyzer/get_pose_and_angles.ipynb#W1sZmlsZQ%3D%3D?line=27'>28</a>\u001b[0m image_rgb \u001b[39m=\u001b[39m cv2\u001b[39m.\u001b[39mcvtColor(image, cv2\u001b[39m.\u001b[39mCOLOR_BGR2RGB)\n\u001b[1;32m     <a href='vscode-notebook-cell:/Users/viniciusdanielarantes/shadowboxing-analyzer/get_pose_and_angles.ipynb#W1sZmlsZQ%3D%3D?line=29'>30</a>\u001b[0m results \u001b[39m=\u001b[39m pose\u001b[39m.\u001b[39mprocess(image_rgb)\n\u001b[0;32m---> <a href='vscode-notebook-cell:/Users/viniciusdanielarantes/shadowboxing-analyzer/get_pose_and_angles.ipynb#W1sZmlsZQ%3D%3D?line=30'>31</a>\u001b[0m landmarks \u001b[39m=\u001b[39m results\u001b[39m.\u001b[39;49mpose_landmarks\u001b[39m.\u001b[39;49mlandmark\n\u001b[1;32m     <a href='vscode-notebook-cell:/Users/viniciusdanielarantes/shadowboxing-analyzer/get_pose_and_angles.ipynb#W1sZmlsZQ%3D%3D?line=32'>33</a>\u001b[0m \u001b[39mif\u001b[39;00m landmarks:\n\u001b[1;32m     <a href='vscode-notebook-cell:/Users/viniciusdanielarantes/shadowboxing-analyzer/get_pose_and_angles.ipynb#W1sZmlsZQ%3D%3D?line=33'>34</a>\u001b[0m     shoulder_index \u001b[39m=\u001b[39m \u001b[39m11\u001b[39m\n",
      "\u001b[0;31mAttributeError\u001b[0m: 'NoneType' object has no attribute 'landmark'"
     ]
    }
   ],
   "source": [
    "cap = cv2.VideoCapture(\"punches_videos/jab/jab1.mp4\")\n",
    "get_pose_landmarks(cap)"
   ]
  },
  {
   "cell_type": "code",
   "execution_count": null,
   "metadata": {},
   "outputs": [],
   "source": []
  }
 ],
 "metadata": {
  "kernelspec": {
   "display_name": "base",
   "language": "python",
   "name": "python3"
  },
  "language_info": {
   "codemirror_mode": {
    "name": "ipython",
    "version": 3
   },
   "file_extension": ".py",
   "mimetype": "text/x-python",
   "name": "python",
   "nbconvert_exporter": "python",
   "pygments_lexer": "ipython3",
   "version": "3.10.9"
  }
 },
 "nbformat": 4,
 "nbformat_minor": 2
}
