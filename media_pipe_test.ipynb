{
 "cells": [
  {
   "cell_type": "code",
   "execution_count": null,
   "metadata": {},
   "outputs": [],
   "source": [
    "# After following install guide in https://developers.google.com/mediapipe/framework/getting_started/install\n",
    "# pip install mediapipe"
   ]
  },
  {
   "cell_type": "code",
   "execution_count": null,
   "metadata": {},
   "outputs": [],
   "source": [
    "import cv2\n",
    "import mediapipe as mp\n",
    "\n",
    "mp_drawing = mp.solutions.drawing_utils\n",
    "mp_pose = mp.solutions.pose"
   ]
  },
  {
   "cell_type": "code",
   "execution_count": null,
   "metadata": {},
   "outputs": [],
   "source": [
    "# def get_pose_landmarks(cap):\n",
    "#     with mp_pose.Pose(\n",
    "#         min_detection_confidence=0.5, min_tracking_confidence=0.5\n",
    "#     ) as pose:\n",
    "#         while cap.isOpened():\n",
    "#             ret, image = cap.read()\n",
    "#             if not ret:\n",
    "#                 break\n",
    "\n",
    "#             image_rgb = cv2.cvtColor(image, cv2.COLOR_BGR2RGB)\n",
    "\n",
    "#             results = pose.process(image_rgb)\n",
    "#             landmarks = results.pose_landmarks\n",
    "\n",
    "#             if landmarks:\n",
    "#                 mp_drawing.draw_landmarks(\n",
    "#                     image, results.pose_landmarks, mp_pose.POSE_CONNECTIONS\n",
    "#                 )\n",
    "\n",
    "#             cv2.imshow(\"Pose Estimation\", image)\n",
    "\n",
    "#             if cv2.waitKey(1) & 0xFF == ord(\"q\"):\n",
    "#                 break\n",
    "\n",
    "#     cap.release()\n",
    "#     cv2.destroyAllWindows()"
   ]
  },
  {
   "cell_type": "code",
   "execution_count": null,
   "metadata": {},
   "outputs": [],
   "source": [
    "import cv2\n",
    "import mediapipe as mp\n",
    "import numpy as np\n",
    "\n",
    "\n",
    "# Function to calculate the angle between three keypoints\n",
    "def calculate_angle(p1, p2, p3):\n",
    "    v1 = p1 - p2\n",
    "    v2 = p3 - p2\n",
    "    angle_radians = np.arccos(\n",
    "        np.dot(v1, v2) / (np.linalg.norm(v1) * np.linalg.norm(v2))\n",
    "    )\n",
    "    angle_degrees = np.degrees(angle_radians)\n",
    "    return angle_degrees\n",
    "\n",
    "\n",
    "# Main function for pose estimation and angle calculation\n",
    "def get_pose_landmarks(cap):\n",
    "    with mp_pose.Pose(\n",
    "        min_detection_confidence=0.5, min_tracking_confidence=0.5\n",
    "    ) as pose:\n",
    "        while cap.isOpened():\n",
    "            ret, image = cap.read()\n",
    "            if not ret:\n",
    "                break\n",
    "\n",
    "            image_rgb = cv2.cvtColor(image, cv2.COLOR_BGR2RGB)\n",
    "\n",
    "            results = pose.process(image_rgb)\n",
    "            landmarks = results.pose_landmarks\n",
    "\n",
    "            if landmarks:\n",
    "                # Define the keypoints for shoulders, elbows, and wrists (adjust indices as needed)\n",
    "                shoulder_index = 11\n",
    "                elbow_index = 13\n",
    "                wrist_index = 15\n",
    "\n",
    "                shoulder = np.array(\n",
    "                    [landmarks[shoulder_index].x, landmarks[shoulder_index].y]\n",
    "                )\n",
    "                elbow = np.array([landmarks[elbow_index].x, landmarks[elbow_index].y])\n",
    "                wrist = np.array([landmarks[wrist_index].x, landmarks[wrist_index].y])\n",
    "\n",
    "                # Calculate the shoulder-elbow-wrist angle\n",
    "                shoulder_elbow_wrist_angle = calculate_angle(shoulder, elbow, wrist)\n",
    "\n",
    "                # Display the angle on the image (optional)\n",
    "                cv2.putText(\n",
    "                    image,\n",
    "                    f\"Angle: {shoulder_elbow_wrist_angle:.2f}\",\n",
    "                    (10, 30),\n",
    "                    cv2.FONT_HERSHEY_SIMPLEX,\n",
    "                    1,\n",
    "                    (0, 255, 0),\n",
    "                    2,\n",
    "                )\n",
    "\n",
    "                mp_drawing.draw_landmarks(\n",
    "                    image, results.pose_landmarks, mp_pose.POSE_CONNECTIONS\n",
    "                )\n",
    "\n",
    "            cv2.imshow(\"Pose Estimation\", image)\n",
    "\n",
    "            if cv2.waitKey(1) & 0xFF == ord(\"q\"):\n",
    "                break\n",
    "\n",
    "    cap.release()\n",
    "    cv2.destroyAllWindows()"
   ]
  },
  {
   "cell_type": "code",
   "execution_count": null,
   "metadata": {},
   "outputs": [],
   "source": [
    "cap = cv2.VideoCapture(\"videos/gervonta_sb.mp4\")\n",
    "get_pose_landmarks(cap)"
   ]
  }
 ],
 "metadata": {
  "kernelspec": {
   "display_name": "base",
   "language": "python",
   "name": "python3"
  },
  "language_info": {
   "codemirror_mode": {
    "name": "ipython",
    "version": 3
   },
   "file_extension": ".py",
   "mimetype": "text/x-python",
   "name": "python",
   "nbconvert_exporter": "python",
   "pygments_lexer": "ipython3",
   "version": "3.10.9"
  }
 },
 "nbformat": 4,
 "nbformat_minor": 2
}
